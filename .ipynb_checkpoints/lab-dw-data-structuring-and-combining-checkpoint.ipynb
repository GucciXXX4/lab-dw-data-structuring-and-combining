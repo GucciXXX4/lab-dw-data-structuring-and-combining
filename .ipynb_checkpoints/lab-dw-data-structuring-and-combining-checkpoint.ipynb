{
 "cells": [
  {
   "cell_type": "markdown",
   "id": "25d7736c-ba17-4aff-b6bb-66eba20fbf4e",
   "metadata": {
    "id": "25d7736c-ba17-4aff-b6bb-66eba20fbf4e"
   },
   "source": [
    "# Lab | Data Structuring and Combining Data"
   ]
  },
  {
   "cell_type": "markdown",
   "id": "a2cdfc70-44c8-478c-81e7-2bc43fdf4986",
   "metadata": {
    "id": "a2cdfc70-44c8-478c-81e7-2bc43fdf4986"
   },
   "source": [
    "## Challenge 1: Combining & Cleaning Data\n",
    "\n",
    "In this challenge, we will be working with the customer data from an insurance company, as we did in the two previous labs. The data can be found here:\n",
    "- https://raw.githubusercontent.com/data-bootcamp-v4/data/main/file1.csv\n",
    "\n",
    "But this time, we got new data, which can be found in the following 2 CSV files located at the links below.\n",
    "\n",
    "- https://raw.githubusercontent.com/data-bootcamp-v4/data/main/file2.csv\n",
    "- https://raw.githubusercontent.com/data-bootcamp-v4/data/main/file3.csv\n",
    "\n",
    "Note that you'll need to clean and format the new data.\n",
    "\n",
    "Observation:\n",
    "- One option is to first combine the three datasets and then apply the cleaning function to the new combined dataset\n",
    "- Another option would be to read the clean file you saved in the previous lab, and just clean the two new files and concatenate the three clean datasets"
   ]
  },
  {
   "cell_type": "code",
   "execution_count": 6,
   "id": "492d06e3-92c7-4105-ac72-536db98d3244",
   "metadata": {
    "id": "492d06e3-92c7-4105-ac72-536db98d3244"
   },
   "outputs": [
    {
     "name": "stdout",
     "output_type": "stream",
     "text": [
      "Cleaning complete!\n",
      "\n",
      "Info\n",
      "<class 'pandas.core.frame.DataFrame'>\n",
      "RangeIndex: 9135 entries, 0 to 9134\n",
      "Data columns (total 13 columns):\n",
      " #   Column                     Non-Null Count  Dtype \n",
      "---  ------                     --------------  ----- \n",
      " 0   Customer                   9134 non-null   object\n",
      " 1   ST                         2064 non-null   object\n",
      " 2   GENDER                     1942 non-null   object\n",
      " 3   Education                  9134 non-null   object\n",
      " 4   Customer Lifetime Value    9127 non-null   object\n",
      " 5   Income                     9135 non-null   int64 \n",
      " 6   Monthly Premium Auto       9135 non-null   int64 \n",
      " 7   Number of Open Complaints  9134 non-null   object\n",
      " 8   Policy Type                9134 non-null   object\n",
      " 9   Vehicle Class              9134 non-null   object\n",
      " 10  Total Claim Amount         9135 non-null   int64 \n",
      " 11  State                      7070 non-null   object\n",
      " 12  Gender                     7070 non-null   object\n",
      "dtypes: int64(3), object(10)\n",
      "memory usage: 927.9+ KB\n",
      "None\n",
      "\n",
      "Missing values\n",
      "Customer                        1\n",
      "ST                           7071\n",
      "GENDER                       7193\n",
      "Education                       1\n",
      "Customer Lifetime Value         8\n",
      "Income                          0\n",
      "Monthly Premium Auto            0\n",
      "Number of Open Complaints       1\n",
      "Policy Type                     1\n",
      "Vehicle Class                   1\n",
      "Total Claim Amount              0\n",
      "State                        2065\n",
      "Gender                       2065\n",
      "dtype: int64\n",
      "\n",
      "Sample Data\n",
      "  Customer          ST GENDER             Education Customer Lifetime Value  \\\n",
      "0  RB50392  Washington    NaN                Master                     NaN   \n",
      "1  QZ44356     Arizona      F              Bachelor              697953.59%   \n",
      "2  AI49188      Nevada      F              Bachelor             1288743.17%   \n",
      "3  WW63253  California      M              Bachelor              764586.18%   \n",
      "4  GA49547  Washington      M  High School or Below              536307.65%   \n",
      "\n",
      "   Income  Monthly Premium Auto Number of Open Complaints     Policy Type  \\\n",
      "0       0                  1000                    1/0/00   Personal Auto   \n",
      "1       0                    94                    1/0/00   Personal Auto   \n",
      "2   48767                   108                    1/0/00   Personal Auto   \n",
      "3       0                   106                    1/0/00  Corporate Auto   \n",
      "4   36357                    68                    1/0/00   Personal Auto   \n",
      "\n",
      "   Vehicle Class  Total Claim Amount State Gender  \n",
      "0  Four-Door Car                   2   NaN    NaN  \n",
      "1  Four-Door Car                1131   NaN    NaN  \n",
      "2   Two-Door Car                 566   NaN    NaN  \n",
      "3            SUV                 529   NaN    NaN  \n",
      "4  Four-Door Car                  17   NaN    NaN  \n"
     ]
    }
   ],
   "source": [
    "# Your code goes here\n",
    "\n",
    "import pandas as pd\n",
    "\n",
    "#datasets\n",
    "url1 = \"https://raw.githubusercontent.com/data-bootcamp-v4/data/main/file1.csv\"\n",
    "url2 = \"https://raw.githubusercontent.com/data-bootcamp-v4/data/main/file2.csv\"\n",
    "url3 = \"https://raw.githubusercontent.com/data-bootcamp-v4/data/main/file3.csv\"\n",
    "\n",
    "df1 = pd.read_csv(url1)\n",
    "df2 = pd.read_csv(url2)\n",
    "df3 = pd.read_csv(url3)\n",
    "\n",
    "#combine datasets\n",
    "df = pd.concat([df1, df2, df3], ignore_index=True)\n",
    "\n",
    "#cleaning functions\n",
    "\n",
    "def clean_gender(df):\n",
    "    if \"gender\" in df.columns:\n",
    "        df[\"gender\"] = df[\"gender\"].astype(str).str.upper()\n",
    "        df[\"gender\"] = df[\"gender\"].replace({\n",
    "            \"M\": \"M\", \"MALE\": \"M\",\n",
    "            \"F\": \"F\", \"FEMALE\": \"F\", \"FEMAL\": \"F\"\n",
    "        })\n",
    "    return df\n",
    "\n",
    "def clean_state(df):\n",
    "    if \"state\" in df.columns:\n",
    "        df[\"state\"] = df[\"state\"].replace({\n",
    "            \"AZ\": \"Arizona\",\n",
    "            \"Cali\": \"California\",\n",
    "            \"WA\": \"Washington\"\n",
    "        })\n",
    "    return df\n",
    "\n",
    "def clean_education(df):\n",
    "    if \"education\" in df.columns:\n",
    "        df[\"education\"] = df[\"education\"].replace({\n",
    "            \"Bachelors\": \"Bachelor\"\n",
    "        })\n",
    "    return df\n",
    "\n",
    "def clean_customer_lifetime_value(df):\n",
    "    if \"customer_lifetime_value\" in df.columns:\n",
    "        df[\"customer_lifetime_value\"] = (\n",
    "            df[\"customer_lifetime_value\"]\n",
    "            .astype(str)\n",
    "            .str.replace(\"%\", \"\", regex=False)\n",
    "        )\n",
    "        df[\"customer_lifetime_value\"] = pd.to_numeric(df[\"customer_lifetime_value\"], errors=\"coerce\")\n",
    "    return df\n",
    "\n",
    "def clean_vehicle_class(df):\n",
    "    if \"vehicle_class\" in df.columns:\n",
    "        df[\"vehicle_class\"] = df[\"vehicle_class\"].replace({\n",
    "            \"Sports Car\": \"Luxury\",\n",
    "            \"Luxury SUV\": \"Luxury\",\n",
    "            \"Luxury Car\": \"Luxury\"\n",
    "        })\n",
    "    return df\n",
    "\n",
    "def clean_open_complaints(df):\n",
    "    if \"number_of_open_complaints\" in df.columns:\n",
    "        df[\"number_of_open_complaints\"] = (\n",
    "            df[\"number_of_open_complaints\"]\n",
    "            .astype(str)\n",
    "            .str.split(\"/\")\n",
    "            .str[1]   #middle number from format like 1/5/00\n",
    "        )\n",
    "        df[\"number_of_open_complaints\"] = pd.to_numeric(df[\"number_of_open_complaints\"], errors=\"coerce\")\n",
    "    return df\n",
    "\n",
    "def convert_numeric_to_int(df):\n",
    "    for col in df.select_dtypes(include=[\"float\", \"int\"]).columns:\n",
    "        df[col] = df[col].fillna(0).astype(int)\n",
    "    return df\n",
    "\n",
    "#apply cleaning\n",
    "df = clean_gender(df)\n",
    "df = clean_state(df)\n",
    "df = clean_education(df)\n",
    "df = clean_customer_lifetime_value(df)\n",
    "df = clean_vehicle_class(df)\n",
    "df = clean_open_complaints(df)\n",
    "df = convert_numeric_to_int(df)\n",
    "\n",
    "#duplicates\n",
    "df = df.drop_duplicates().reset_index(drop=True)\n",
    "\n",
    "#save cleaned dataset\n",
    "df.to_csv(\"cleaned_customer_data.csv\", index=False)\n",
    "\n",
    "#final checks\n",
    "print(\"Cleaning complete!\")\n",
    "print(\"\\nInfo\")\n",
    "print(df.info())\n",
    "print(\"\\nMissing values\")\n",
    "print(df.isnull().sum())\n",
    "print(\"\\nSample Data\")\n",
    "print(df.head())\n"
   ]
  },
  {
   "cell_type": "markdown",
   "id": "31b8a9e7-7db9-4604-991b-ef6771603e57",
   "metadata": {
    "id": "31b8a9e7-7db9-4604-991b-ef6771603e57"
   },
   "source": [
    "# Challenge 2: Structuring Data"
   ]
  },
  {
   "cell_type": "markdown",
   "id": "a877fd6d-7a0c-46d2-9657-f25036e4ca4b",
   "metadata": {
    "id": "a877fd6d-7a0c-46d2-9657-f25036e4ca4b"
   },
   "source": [
    "In this challenge, we will continue to work with customer data from an insurance company, but we will use a dataset with more columns, called marketing_customer_analysis.csv, which can be found at the following link:\n",
    "\n",
    "https://raw.githubusercontent.com/data-bootcamp-v4/data/main/marketing_customer_analysis_clean.csv\n",
    "\n",
    "This dataset contains information such as customer demographics, policy details, vehicle information, and the customer's response to the last marketing campaign. Our goal is to explore and analyze this data by performing data cleaning, formatting, and structuring."
   ]
  },
  {
   "cell_type": "code",
   "execution_count": 7,
   "id": "aa10d9b0-1c27-4d3f-a8e4-db6ab73bfd26",
   "metadata": {
    "id": "aa10d9b0-1c27-4d3f-a8e4-db6ab73bfd26"
   },
   "outputs": [
    {
     "name": "stdout",
     "output_type": "stream",
     "text": [
      "Dataset loaded successfully!\n",
      "Shape: (10910, 27)\n",
      "   unnamed:_0 customer       state  customer_lifetime_value response  \\\n",
      "0           0  DK49336     Arizona              4809.216960       No   \n",
      "1           1  KX64629  California              2228.525238       No   \n",
      "2           2  LZ68649  Washington             14947.917300       No   \n",
      "3           3  XL78013      Oregon             22332.439460      Yes   \n",
      "4           4  QA50777      Oregon              9025.067525       No   \n",
      "\n",
      "   coverage education effective_to_date employmentstatus gender  ...  \\\n",
      "0     Basic   College        2011-02-18         Employed      M  ...   \n",
      "1     Basic   College        2011-01-18       Unemployed      F  ...   \n",
      "2     Basic  Bachelor        2011-02-10         Employed      M  ...   \n",
      "3  Extended   College        2011-01-11         Employed      M  ...   \n",
      "4   Premium  Bachelor        2011-01-17    Medical Leave      F  ...   \n",
      "\n",
      "   number_of_policies     policy_type        policy  renew_offer_type  \\\n",
      "0                   9  Corporate Auto  Corporate L3            Offer3   \n",
      "1                   1   Personal Auto   Personal L3            Offer4   \n",
      "2                   2   Personal Auto   Personal L3            Offer3   \n",
      "3                   2  Corporate Auto  Corporate L3            Offer2   \n",
      "4                   7   Personal Auto   Personal L2            Offer1   \n",
      "\n",
      "   sales_channel  total_claim_amount  vehicle_class  vehicle_size  \\\n",
      "0          Agent          292.800000  Four-Door Car       Medsize   \n",
      "1    Call Center          744.924331  Four-Door Car       Medsize   \n",
      "2    Call Center          480.000000            SUV       Medsize   \n",
      "3         Branch          484.013411  Four-Door Car       Medsize   \n",
      "4         Branch          707.925645  Four-Door Car       Medsize   \n",
      "\n",
      "  vehicle_type month  \n",
      "0            A     2  \n",
      "1            A     1  \n",
      "2            A     2  \n",
      "3            A     1  \n",
      "4            A     1  \n",
      "\n",
      "[5 rows x 27 columns]\n",
      "\n",
      "--- Total Revenue by Sales Channel ---\n",
      "               total_claim_amount\n",
      "sales_channel                    \n",
      "Agent                  1810226.82\n",
      "Branch                 1301204.00\n",
      "Call Center             926600.82\n",
      "Web                     706600.04\n",
      "\n",
      "Average Customer Lifetime Value by Gender and Education\n",
      "education  Bachelor  College   Doctor  High School or Below   Master\n",
      "gender                                                              \n",
      "F           7874.27  7748.82  7328.51               8675.22  8157.05\n",
      "M           7703.60  8052.46  7415.33               8149.69  8168.83\n"
     ]
    }
   ],
   "source": [
    "# Your code goes here\n",
    "import pandas as pd\n",
    "\n",
    "#dataset\n",
    "url = \"https://raw.githubusercontent.com/data-bootcamp-v4/data/main/marketing_customer_analysis_clean.csv\"\n",
    "df = pd.read_csv(url)\n",
    "\n",
    "print(\"Dataset loaded successfully!\")\n",
    "print(\"Shape:\", df.shape)\n",
    "print(df.head())\n",
    "\n",
    "#total revenue by sales channel\n",
    "pivot_sales_channel = (\n",
    "    df.pivot_table(\n",
    "        values=\"total_claim_amount\",\n",
    "        index=\"sales_channel\",\n",
    "        aggfunc=\"sum\"\n",
    "    )\n",
    "    .round(2)\n",
    "    .sort_values(by=\"total_claim_amount\", ascending=False)\n",
    ")\n",
    "\n",
    "print(\"\\n--- Total Revenue by Sales Channel ---\")\n",
    "print(pivot_sales_channel)\n",
    "\n",
    "#average customer lifetime value by gender and education\n",
    "pivot_clv = (\n",
    "    df.pivot_table(\n",
    "        values=\"customer_lifetime_value\",\n",
    "        index=\"gender\",\n",
    "        columns=\"education\",\n",
    "        aggfunc=\"mean\"\n",
    "    )\n",
    "    .round(2)\n",
    ")\n",
    "\n",
    "print(\"\\nAverage Customer Lifetime Value by Gender and Education\")\n",
    "print(pivot_clv)\n"
   ]
  },
  {
   "cell_type": "markdown",
   "id": "df35fd0d-513e-4e77-867e-429da10a9cc7",
   "metadata": {
    "id": "df35fd0d-513e-4e77-867e-429da10a9cc7"
   },
   "source": [
    "1. You work at the marketing department and you want to know which sales channel brought the most sales in terms of total revenue. Using pivot, create a summary table showing the total revenue for each sales channel (branch, call center, web, and mail).\n",
    "Round the total revenue to 2 decimal points.  Analyze the resulting table to draw insights."
   ]
  },
  {
   "cell_type": "markdown",
   "id": "640993b2-a291-436c-a34d-a551144f8196",
   "metadata": {
    "id": "640993b2-a291-436c-a34d-a551144f8196"
   },
   "source": [
    "2. Create a pivot table that shows the average customer lifetime value per gender and education level. Analyze the resulting table to draw insights."
   ]
  },
  {
   "cell_type": "markdown",
   "id": "32c7f2e5-3d90-43e5-be33-9781b6069198",
   "metadata": {
    "id": "32c7f2e5-3d90-43e5-be33-9781b6069198"
   },
   "source": [
    "## Bonus\n",
    "\n",
    "You work at the customer service department and you want to know which months had the highest number of complaints by policy type category. Create a summary table showing the number of complaints by policy type and month.\n",
    "Show it in a long format table."
   ]
  },
  {
   "cell_type": "markdown",
   "id": "e3d09a8f-953c-448a-a5f8-2e5a8cca7291",
   "metadata": {
    "id": "e3d09a8f-953c-448a-a5f8-2e5a8cca7291"
   },
   "source": [
    "*In data analysis, a long format table is a way of structuring data in which each observation or measurement is stored in a separate row of the table. The key characteristic of a long format table is that each column represents a single variable, and each row represents a single observation of that variable.*\n",
    "\n",
    "*More information about long and wide format tables here: https://www.statology.org/long-vs-wide-data/*"
   ]
  },
  {
   "cell_type": "code",
   "execution_count": 9,
   "id": "3a069e0b-b400-470e-904d-d17582191be4",
   "metadata": {
    "id": "3a069e0b-b400-470e-904d-d17582191be4"
   },
   "outputs": [
    {
     "name": "stdout",
     "output_type": "stream",
     "text": [
      "\n",
      "Complaints by Policy Type and Month (Long Format)\n",
      "      policy_type     month  complaints_count\n",
      "1  Corporate Auto   January              1252\n",
      "0  Corporate Auto  February              1089\n",
      "3   Personal Auto   January              4329\n",
      "2   Personal Auto  February              3799\n",
      "5    Special Auto   January               237\n",
      "4    Special Auto  February               204\n"
     ]
    }
   ],
   "source": [
    "# Your code goes here\n",
    "import pandas as pd\n",
    "\n",
    "#dataset\n",
    "url = \"https://raw.githubusercontent.com/data-bootcamp-v4/data/main/marketing_customer_analysis_clean.csv\"\n",
    "df = pd.read_csv(url)\n",
    "\n",
    "#make sure that the date column is datetime\n",
    "df[\"effective_to_date\"] = pd.to_datetime(df[\"effective_to_date\"], errors=\"coerce\")\n",
    "\n",
    "#extract month name from the date\n",
    "df[\"month\"] = df[\"effective_to_date\"].dt.month_name()\n",
    "\n",
    "#summary table number of complaints by policy type and month\n",
    "complaints_summary = (\n",
    "    df.groupby([\"policy_type\", \"month\"])[\"number_of_open_complaints\"]\n",
    "    .count()\n",
    "    .reset_index(name=\"complaints_count\")\n",
    "    .sort_values([\"policy_type\", \"complaints_count\"], ascending=[True, False])\n",
    ")\n",
    "\n",
    "print(\"\\nComplaints by Policy Type and Month (Long Format)\")\n",
    "print(complaints_summary.head(20))\n"
   ]
  },
  {
   "cell_type": "code",
   "execution_count": null,
   "id": "67ab2aea-f745-40f7-9241-99581f7f2db8",
   "metadata": {},
   "outputs": [],
   "source": []
  }
 ],
 "metadata": {
  "colab": {
   "provenance": []
  },
  "kernelspec": {
   "display_name": "Python [conda env:base] *",
   "language": "python",
   "name": "conda-base-py"
  },
  "language_info": {
   "codemirror_mode": {
    "name": "ipython",
    "version": 3
   },
   "file_extension": ".py",
   "mimetype": "text/x-python",
   "name": "python",
   "nbconvert_exporter": "python",
   "pygments_lexer": "ipython3",
   "version": "3.13.5"
  }
 },
 "nbformat": 4,
 "nbformat_minor": 5
}
